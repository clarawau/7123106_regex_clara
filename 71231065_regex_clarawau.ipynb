{
 "cells": [
  {
   "cell_type": "code",
   "execution_count": 1,
   "id": "71a50e99",
   "metadata": {},
   "outputs": [
    {
     "name": "stdout",
     "output_type": "stream",
     "text": [
      "17-08-1945 selisih 28780 hari\n",
      "11-11-1785 selisih 87132 hari\n",
      "08-06-1783 selisih 88019 hari\n",
      "02-05-1889 selisih 49340 hari\n"
     ]
    }
   ],
   "source": [
    "import re\n",
    "import datetime\n",
    "\n",
    "def tanggal(kalimat):\n",
    "    waktunya = r'(\\d{4}-\\d{2}-\\d{2})'\n",
    "    tanggalnya = re.findall(waktunya, kalimat)\n",
    "    for t in tanggalnya:\n",
    "        tanggal1 = datetime.datetime.strptime(t, '%Y-%m-%d')\n",
    "        selisih = (datetime.datetime.now() - tanggal1).days\n",
    "        print(f\"{tanggal1.strftime('%d-%m-%Y')} selisih {selisih} hari\")\n",
    "kalimat = \"Pada tanggal 1945-08-17 Indonesia merdeka Indonesia memiliki beberapa pahlawan nasional,seperti Pangeran Diponegoro (TL: 1785-11-11), Pattimura (TL: 1783-06-08) dan KiHajar Dewantara (1889-05-02)\"\n",
    "tanggal(kalimat)"
   ]
  },
  {
   "cell_type": "code",
   "execution_count": 37,
   "id": "e473a131",
   "metadata": {},
   "outputs": [
    {
     "name": "stdout",
     "output_type": "stream",
     "text": [
      "anton@mail.com username: anton, kata sandi: O7MM6rKB\n",
      "budi@gmail.co.id username: budi, kata sandi: FLl18YdT\n",
      "slamet@getnada.com username: slamet, kata sandi: yFAkeIw7\n",
      "matahari@tokopedia.com username: matahari, kata sandi: lNYl04qr\n"
     ]
    }
   ],
   "source": [
    "import re\n",
    "import random\n",
    "import string\n",
    "emails = \"\"\"anton@mail.com dimiliki oleh antonius\n",
    "budi@gmail.co.id dimiliki oleh budi anwari\n",
    "slamet@getnada.com dimiliki oleh slamet slumut\n",
    "matahari@tokopedia.com dimiliki oleh toko matahari\n",
    "\"\"\"\n",
    "pola_email = r'\\b[A-Za-z0-9._%+-]+@[A-Za-z0-9.-]+\\.[A-Z|a-z]{2,}\\b'\n",
    "semua_email = re.findall(pola_email, emails)\n",
    "pengguna = [email.split('@')[0] for email in semua_email]\n",
    "def buat_kata_sandi():\n",
    "    karakter = string.ascii_letters + string.digits\n",
    "    return ''.join(random.choice(karakter) for _ in range(8))\n",
    "kata_sandi = {user: buat_kata_sandi() for user in pengguna}\n",
    "for email in semua_email:\n",
    "    user = email.split('@')[0]\n",
    "    sandi = kata_sandi[user]\n",
    "    print(f\"{email} username: {user}, kata sandi: {sandi}\")"
   ]
  },
  {
   "cell_type": "code",
   "execution_count": null,
   "id": "6c8204db",
   "metadata": {},
   "outputs": [],
   "source": []
  },
  {
   "cell_type": "code",
   "execution_count": null,
   "id": "c19ec6e5",
   "metadata": {},
   "outputs": [],
   "source": []
  }
 ],
 "metadata": {
  "kernelspec": {
   "display_name": "Python 3 (ipykernel)",
   "language": "python",
   "name": "python3"
  },
  "language_info": {
   "codemirror_mode": {
    "name": "ipython",
    "version": 3
   },
   "file_extension": ".py",
   "mimetype": "text/x-python",
   "name": "python",
   "nbconvert_exporter": "python",
   "pygments_lexer": "ipython3",
   "version": "3.11.5"
  }
 },
 "nbformat": 4,
 "nbformat_minor": 5
}
